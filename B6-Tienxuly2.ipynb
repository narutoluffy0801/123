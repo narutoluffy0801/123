{
 "cells": [
  {
   "cell_type": "code",
   "execution_count": 7,
   "metadata": {},
   "outputs": [
    {
     "name": "stdout",
     "output_type": "stream",
     "text": [
      "[['red']\n",
      " ['red']\n",
      " ['yellow']\n",
      " ['green']\n",
      " ['yellow']]\n",
      "[[0. 1. 0.]\n",
      " [0. 1. 0.]\n",
      " [0. 0. 1.]\n",
      " [1. 0. 0.]\n",
      " [0. 0. 1.]]\n"
     ]
    }
   ],
   "source": [
    "import pandas as pd\n",
    "import numpy as np\n",
    "from numpy import asarray\n",
    "\n",
    "from sklearn.preprocessing import OneHotEncoder\n",
    "data = asarray([['red'], ['red'], ['yellow'], ['green'], ['yellow']])\n",
    "print(data)\n",
    "encoder = OneHotEncoder(sparse=False)\n",
    "onehot = encoder.fit_transform(data)\n",
    "print(onehot)\n"
   ]
  },
  {
   "cell_type": "code",
   "execution_count": 10,
   "metadata": {},
   "outputs": [
    {
     "name": "stdout",
     "output_type": "stream",
     "text": [
      "[1 1 2 0 2]\n"
     ]
    },
    {
     "data": {
      "text/plain": [
       "0    1\n",
       "1    1\n",
       "2    2\n",
       "3    0\n",
       "4    2\n",
       "dtype: int8"
      ]
     },
     "execution_count": 10,
     "metadata": {},
     "output_type": "execute_result"
    }
   ],
   "source": [
    "from sklearn.preprocessing import LabelEncoder\n",
    "encoder = LabelEncoder()\n",
    "lb = encoder.fit_transform(['red', 'red', 'yellow', 'green', 'yellow'])\n",
    "print(lb)\n",
    "#•\tSử dụng pandas:\n",
    "#Ta cũng tạo ra 1 Series cho ví dụ trên và thực hiện mã hóa bằng pandas.\n",
    "import pandas as pd\n",
    "s = pd.Series(['red', 'red', 'yellow', 'green', 'yellow'])\n",
    "s.astype('category').cat.codes\n"
   ]
  },
  {
   "cell_type": "code",
   "execution_count": 14,
   "metadata": {},
   "outputs": [
    {
     "name": "stdout",
     "output_type": "stream",
     "text": [
      "[[1. 0.]\n",
      " [0. 2.]\n",
      " [0. 1.]]\n"
     ]
    },
    {
     "data": {
      "text/plain": [
       "array([['Male', 1],\n",
       "       ['Female', 2]], dtype=object)"
      ]
     },
     "execution_count": 14,
     "metadata": {},
     "output_type": "execute_result"
    }
   ],
   "source": [
    "#from sklearn.preprocessing import OrdinalEncoder\n",
    "#from numpy import asarray\n",
    "#enc = OrdinalEncoder()\n",
    "#X = [['Male', 1], ['Female', 3], ['Female', 2]]\n",
    "#enc.fit(X)\n",
    "#OrdinalEncoder()\n",
    "#enc.categories_[array(['Female', 'Male'], dtype=object), array([1, 2, 3], dtype=object)]\n",
    "#enc.transform([['Female', 3], ['Male', 1]])\n",
    "\n",
    "from sklearn.preprocessing import OrdinalEncoder\n",
    "enc = OrdinalEncoder()\n",
    "X = [['Male', 1], ['Female', 3], ['Female', 2]]\n",
    "print(enc.fit_transform(X))\n",
    "enc.inverse_transform([[1, 0], [0, 1]])"
   ]
  },
  {
   "cell_type": "code",
   "execution_count": 36,
   "metadata": {},
   "outputs": [
    {
     "name": "stdout",
     "output_type": "stream",
     "text": [
      "[(18, 25], (18, 25], (18, 25], (25, 35], (18, 25], ..., (25, 35], (60, 100], (35, 60], (35, 60], (25, 35]]\n",
      "Length: 12\n",
      "Categories (4, interval[int64, right]): [(18, 25] < (25, 35] < (35, 60] < (60, 100]]\n",
      "[0 0 0 1 0 0 2 1 3 2 2 1]\n",
      "IntervalIndex([(18, 25], (25, 35], (35, 60], (60, 100]], dtype='interval[int64, right]')\n"
     ]
    },
    {
     "data": {
      "text/plain": [
       "(0.67, 0.88]     8\n",
       "(0.45, 0.67]     6\n",
       "(0.021, 0.24]    3\n",
       "(0.24, 0.45]     3\n",
       "dtype: int64"
      ]
     },
     "execution_count": 36,
     "metadata": {},
     "output_type": "execute_result"
    }
   ],
   "source": [
    "import pandas as pd\n",
    "import numpy as np\n",
    "ages = [20, 22, 25, 27, 21, 23, 37, 31, 61, 45, 41, 32]\n",
    "# định nghĩa khoảng giá trị các nhóm\n",
    "bins = [18, 25, 35, 60, 100]\n",
    "# thực hiện rời rạc hóa\n",
    "cats = pd.cut(ages, bins)\n",
    "print(cats)\n",
    "# lấy ra index của nhóm tương ứng với các phần tử\n",
    "print(cats.codes)\n",
    "# lấy ra các nhóm\n",
    "print(cats.categories)\n",
    "# thống kê số lượng phần tử ở mỗi nhóm\n",
    "pd.value_counts(cats)\n",
    "#ĐỒng nhất với ký hiệu toán học cho các khoảng, dấu ngoặc đơn,\n",
    "# thay đổi phía bị đóng bằng cách truyền vào tham số right = False:[]-->[)\n",
    "pd.cut(ages, [18, 26, 36, 61, 100], right=False)\n",
    "# danh sách nhãn\n",
    "group_names = ['Youth', 'YoungAdult', 'MiddleAged', 'Senior']\n",
    "\n",
    "pd.cut(ages, bins, labels=group_names)\n",
    "# sinh dữ liệu ngẫu nhiên gồm 20 phần tử\n",
    "data = np.random.rand(20)\n",
    "cut_data = pd.cut(data, 4,precision = 2 ) #precision = 2 sẽ giới hạn độ chính xác thập phân ở hai chữ số.\n",
    "cut_data\n",
    "pd.value_counts(cut_data)\n",
    " \n",
    "\n"
   ]
  },
  {
   "cell_type": "code",
   "execution_count": 37,
   "metadata": {},
   "outputs": [
    {
     "data": {
      "text/plain": [
       "[(1.352, 3.476], (1.352, 3.476], (0.0548, 1.352], (-3.362, -1.264], (0.0548, 1.352], ..., (1.352, 3.476], (-1.264, 0.0548], (0.0548, 1.352], (0.0548, 1.352], (-1.264, 0.0548]]\n",
       "Length: 1000\n",
       "Categories (4, interval[float64, right]): [(-3.362, -1.264] < (-1.264, 0.0548] < (0.0548, 1.352] < (1.352, 3.476]]"
      ]
     },
     "execution_count": 37,
     "metadata": {},
     "output_type": "execute_result"
    }
   ],
   "source": [
    "import pandas as pd\n",
    "import numpy as np\n",
    "# sinh ngẫu nhiễn 1000 điểm dữ liệu\n",
    "data2 = np.random.randn(1000)\n",
    "# thực hiện hàm qcut trên dữ liệu vừa sinh ra\n",
    "cats = pd.qcut(data2, 4)\n",
    "cats\n",
    "#thống kê số lượng phần tử\n",
    "pd.value_counts(cats)\n",
    "pd.qcut(data2, [0, 0.1, 0.5, 0.9, 1.])"
   ]
  }
 ],
 "metadata": {
  "interpreter": {
   "hash": "2c9b7b1f8a8b380a22b7fd2c73a79c7a1b5215f489a1075541c23444f3b97d6d"
  },
  "kernelspec": {
   "display_name": "Python 3.9.7 ('base')",
   "language": "python",
   "name": "python3"
  },
  "language_info": {
   "codemirror_mode": {
    "name": "ipython",
    "version": 3
   },
   "file_extension": ".py",
   "mimetype": "text/x-python",
   "name": "python",
   "nbconvert_exporter": "python",
   "pygments_lexer": "ipython3",
   "version": "3.9.7"
  },
  "orig_nbformat": 4
 },
 "nbformat": 4,
 "nbformat_minor": 2
}
