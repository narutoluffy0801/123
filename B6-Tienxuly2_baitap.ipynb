{
 "cells": [
  {
   "cell_type": "code",
   "execution_count": 1,
   "metadata": {},
   "outputs": [],
   "source": [
    "import pandas as pd\n",
    "import numpy as np\n",
    "import seaborn as sns\n",
    "from sklearn.preprocessing import MinMaxScaler, RobustScaler, StandardScaler\n",
    "from sklearn.preprocessing import LabelEncoder, OneHotEncoder, OrdinalEncoder"
   ]
  },
  {
   "cell_type": "code",
   "execution_count": 12,
   "metadata": {},
   "outputs": [
    {
     "name": "stdout",
     "output_type": "stream",
     "text": [
      "<class 'pandas.core.frame.DataFrame'>\n",
      "RangeIndex: 7381 entries, 0 to 7380\n",
      "Data columns (total 8 columns):\n",
      " #   Column       Non-Null Count  Dtype  \n",
      "---  ------       --------------  -----  \n",
      " 0   Place        7381 non-null   object \n",
      " 1   ProductId    7381 non-null   int64  \n",
      " 2   ProductName  7381 non-null   object \n",
      " 3   UmId         7381 non-null   int64  \n",
      " 4   UmName       7381 non-null   object \n",
      " 5   Month        7381 non-null   int64  \n",
      " 6   Year         7381 non-null   int64  \n",
      " 7   Price        7381 non-null   float64\n",
      "dtypes: float64(1), int64(4), object(3)\n",
      "memory usage: 461.4+ KB\n"
     ]
    },
    {
     "data": {
      "text/plain": [
       "<AxesSubplot:xlabel='Price'>"
      ]
     },
     "execution_count": 12,
     "metadata": {},
     "output_type": "execute_result"
    },
    {
     "data": {
      "image/png": "[encoded data removed]",
      "text/plain": [
       "<Figure size 432x288 with 1 Axes>"
      ]
     },
     "metadata": {
      "needs_background": "light"
     },
     "output_type": "display_data"
    }
   ],
   "source": [
    "# đọc dữ liệu\n",
    "df = pd.read_csv(\"FoodPrice_in_Turkey.csv\", encoding = \"ISO-8859-1\")\n",
    "\n",
    "# in ra kich thuoc du lieu\n",
    "df.shape\n",
    "df.describe()\n",
    "df.info()\n",
    "# kiểm tra dữ liệu bị khuyết\n",
    "df.isna()\n",
    "# kiểm tra dữ liệu không bị khuyết\n",
    "df.notna()\n",
    "# xóa những dòng chứa giá trị bị khuyết\n",
    "df1 = df.dropna()\n",
    "df1.shape\n",
    "sns.boxplot(x=df1['Price'])  # vẽ box plot cho dữ liệu ở cột Price\n",
    "#Xóa dữ liệu ngoại lai bằng IQR scoreIn [ ]:\n",
    "Q1 = df1['Price'].quantile(0.25)\n",
    "Q3 = df1['Price'].quantile(0.75)\n",
    "IQR = Q3 - Q1\n",
    "# xác định phần tử không phải ngoại lai\n",
    "df2 = df1\n",
    "df2['outlier'] = ~((df1['Price'] < (Q1 - 1.5*IQR)) | (df1['Price'] > (Q3 + 1.5*IQR)))\n",
    "# xóa phần tử ngoại lai\n",
    "df2 = df2[df2['outlier'] == True]\n",
    "sns.boxplot(x=df2['Price'])  # vẽ box plot cho dữ liệu ở cột Price\n"
   ]
  },
  {
   "cell_type": "code",
   "execution_count": 19,
   "metadata": {},
   "outputs": [
    {
     "name": "stdout",
     "output_type": "stream",
     "text": [
      "count    6784.000000\n",
      "mean       10.503617\n",
      "std        11.661447\n",
      "min         0.253900\n",
      "25%         3.079550\n",
      "50%         5.373350\n",
      "75%        11.541925\n",
      "max        46.251900\n",
      "Name: Price, dtype: float64\n"
     ]
    },
    {
     "data": {
      "text/plain": [
       "<AxesSubplot:xlabel='Price', ylabel='Density'>"
      ]
     },
     "execution_count": 19,
     "metadata": {},
     "output_type": "execute_result"
    },
    {
     "data": {
      "image/png": "[encoded data removed]",
      "text/plain": [
       "<Figure size 432x288 with 1 Axes>"
      ]
     },
     "metadata": {
      "needs_background": "light"
     },
     "output_type": "display_data"
    }
   ],
   "source": [
    "#Chuẩn hóa dữ liệuIn [ ]:\n",
    "\n",
    "# mô tả dữ liệu\n",
    "print(df2['Price'].describe())\n",
    "# biểu đồ phân bố dữ liệu\n",
    "sns.kdeplot(data=df2['Price'])\n",
    "# chuẩn hóa dữ liệu với minmax scaling\n",
    "scaler = MinMaxScaler()\n",
    "\n",
    "# Chuẩn hóa dữ liệu trong df với Min max scaling ở 2 cột Price\n",
    "df_s = scaler.fit_transform(df2[['Price']])\n",
    "# mô tả dữ liệu sau chuẩn hóa\n",
    "pd.DataFrame(df_s).describe()\n",
    "# vẽ lại biểu đồ hộp\n",
    "sns.boxplot(x=df_s)\n",
    "# biểu đồ phân bố dữ liệu\n",
    "sns.kdeplot(data=df_s)"
   ]
  }
 ],
 "metadata": {
  "interpreter": {
   "hash": "2c9b7b1f8a8b380a22b7fd2c73a79c7a1b5215f489a1075541c23444f3b97d6d"
  },
  "kernelspec": {
   "display_name": "Python 3.9.7 ('base')",
   "language": "python",
   "name": "python3"
  },
  "language_info": {
   "codemirror_mode": {
    "name": "ipython",
    "version": 3
   },
   "file_extension": ".py",
   "mimetype": "text/x-python",
   "name": "python",
   "nbconvert_exporter": "python",
   "pygments_lexer": "ipython3",
   "version": "3.9.7"
  },
  "orig_nbformat": 4
 },
 "nbformat": 4,
 "nbformat_minor": 2
}
