{
 "cells": [
  {
   "cell_type": "markdown",
   "metadata": {},
   "source": [
    "Bộ dữ liệu chứa bao nhiêu dòng, bao nhiêu cột\n",
    "Thang đo tương ứng của các thuộc tính được lưu trữ\n",
    "GDP của các quốc gia có đồng đều không\n",
    "Mỗi châu lục có bao nhiêu quốc gia nằm trong bảng dữ liệu\n",
    "Tổng GPD của các châu lục\n",
    "Top 10 quốc gia có GDP cao nhất\n",
    "\n",
    "\n",
    "\n",
    "Sử dụng groupby để gom nhóm dữ liệu\n",
    "Sử dụng sort_values để sắp xếp dữ liệu"
   ]
  },
  {
   "cell_type": "code",
   "execution_count": 4,
   "metadata": {},
   "outputs": [
    {
     "name": "stdout",
     "output_type": "stream",
     "text": [
      "       Country      Continent  GDP (millions of US$)\n",
      "0  Afghanistan           Asia                  18181\n",
      "1      Albania         Europe                  12847\n",
      "2      Algeria         Africa                 190709\n",
      "3       Angola         Africa                 100948\n",
      "4    Argentina  South America                 447644\n",
      "<class 'pandas.core.frame.DataFrame'>\n",
      "RangeIndex: 125 entries, 0 to 124\n",
      "Data columns (total 3 columns):\n",
      " #   Column                 Non-Null Count  Dtype \n",
      "---  ------                 --------------  ----- \n",
      " 0   Country                125 non-null    object\n",
      " 1   Continent              125 non-null    object\n",
      " 2   GDP (millions of US$)  125 non-null    int64 \n",
      "dtypes: int64(1), object(2)\n",
      "memory usage: 3.1+ KB\n",
      "None\n"
     ]
    }
   ],
   "source": [
    "import pandas as pd\n",
    "import numpy as np\n",
    "import json\n",
    "import matplotlib.pyplot as plt\n",
    "#Sử dụng pandas để đọc dữ liệu\n",
    "data=pd.read_csv('GDPlist.csv')\n",
    "print(data.head())\n",
    "#Sử dụng hàm info() để kiểm tra thông tin bộ dữ liệu\n",
    "print(data.info())\n"
   ]
  },
  {
   "cell_type": "code",
   "execution_count": 15,
   "metadata": {},
   "outputs": [
    {
     "name": "stdout",
     "output_type": "stream",
     "text": [
      "['Afghanistan' 'Albania' 'Algeria' 'Angola' 'Argentina' 'Australia'\n",
      " 'Austria' 'Azerbaijan' 'Bahrain' 'Bangladesh' 'Belarus' 'Belgium'\n",
      " 'Bolivia' 'Bosnia and Herzegovina' 'Botswana' 'Brazil' 'Brunei'\n",
      " 'Bulgaria' 'Burma' 'Cambodia' 'Cameroon' 'Canada' 'Chile' 'China'\n",
      " 'Colombia' 'Congo, Democratic Republic of the' 'Congo, Republic of the'\n",
      " 'Costa Rica' \"Cote d'Ivoire\" 'Croatia' 'Cyprus' 'Czech Republic'\n",
      " 'Denmark' 'Dominican Republic' 'Ecuador' 'Egypt' 'El Salvador'\n",
      " 'Equatorial Guinea' 'Estonia' 'Ethiopia' 'Finland' 'France' 'Gabon'\n",
      " 'Georgia' 'Germany' 'Ghana' 'Greece' 'Guatemala' 'Honduras' 'Hong Kong'\n",
      " 'Hungary' 'Iceland' 'India' 'Indonesia' 'Iran' 'Iraq' 'Ireland' 'Israel'\n",
      " 'Italy' 'Jamaica' 'Japan' 'Jordan' 'Kazakhstan' 'Kenya' 'Kuwait' 'Latvia'\n",
      " 'Lebanon' 'Libya' 'Lithuania' 'Luxembourg' 'Malaysia' 'Mali' 'Mauritius'\n",
      " 'Mexico' 'Morocco' 'Mozambique' 'Namibia' 'Nepal' 'Netherlands'\n",
      " 'New Zealand' 'Nigeria' 'Norway' 'Oman' 'Pakistan' 'Panama'\n",
      " 'Papua New Guinea' 'Paraguay' 'Peru' 'Philippines' 'Poland' 'Portugal'\n",
      " 'Qatar' 'Romania' 'Russia' 'Saudi Arabia' 'Senegal' 'Serbia' 'Singapore'\n",
      " 'Slovakia' 'Slovenia' 'South Africa' 'South Korea' 'Spain' 'Sri Lanka'\n",
      " 'Sudan + South Sudan' 'Sweden' 'Switzerland' 'Taiwan' 'Tanzania'\n",
      " 'Thailand' 'Trinidad and Tobago' 'Tunisia' 'Turkey' 'Turkmenistan'\n",
      " 'Uganda' 'Ukraine' 'United Arab Emirates' 'United Kingdom'\n",
      " 'United States' 'Uruguay' 'Uzbekistan' 'Venezuela' 'Vietnam' 'Yemen'\n",
      " 'Zambia']\n",
      "số các quốc gia là:125\n"
     ]
    }
   ],
   "source": [
    "#Sử dụng dụng biểu đồ histogram để phân tích sự đồng đều về GDP của các quốc gia\n",
    "import pandas as pd\n",
    "import numpy as np\n",
    "import json\n",
    "import matplotlib.pyplot as plt\n",
    "#Sử dụng pandas để đọc dữ liệu\n",
    "data=pd.read_csv('GDPlist.csv')\n",
    "countries=data.Country.unique()\n",
    "print(countries)\n",
    "print(\"số các quốc gia là:\"+str(countries.size))\n"
   ]
  },
  {
   "cell_type": "code",
   "execution_count": 17,
   "metadata": {},
   "outputs": [
    {
     "name": "stdout",
     "output_type": "stream",
     "text": [
      "Continent\n",
      "Europe           37\n",
      "Asia             36\n",
      "Africa           29\n",
      "North America    11\n",
      "South America     9\n",
      "Oceania           3\n",
      "Name: Country, dtype: int64\n",
      "Continent\n",
      "Asia             24425891\n",
      "Europe           19139380\n",
      "North America    18238447\n",
      "South America     4141217\n",
      "Africa            1820811\n",
      "Oceania           1662727\n",
      "Name: GDP (millions of US$), dtype: int64\n"
     ]
    }
   ],
   "source": [
    "#Sử dụng groupby để gom nhóm dữ liệu\n",
    "import pandas as pd\n",
    "import numpy as np\n",
    "import json\n",
    "import matplotlib.pyplot as plt\n",
    "#Sử dụng pandas để đọc dữ liệu\n",
    "data=pd.read_csv('GDPlist.csv')\n",
    "quantity_countries = data.groupby(['Continent'])['Country'].count().sort_values(ascending= False)\n",
    "print(quantity_countries.head(10))\n",
    "quantity_GDP = data.groupby(['Continent'])['GDP (millions of US$)'].sum().sort_values(ascending= False)\n",
    "print(quantity_GDP.head(10))\n"
   ]
  },
  {
   "cell_type": "code",
   "execution_count": 18,
   "metadata": {},
   "outputs": [
    {
     "data": {
      "text/plain": [
       "Country\n",
       "United States     15094025\n",
       "China              7298147\n",
       "Japan              5869471\n",
       "Germany            3577031\n",
       "France             2776324\n",
       "Brazil             2492908\n",
       "United Kingdom     2417570\n",
       "Italy              2198730\n",
       "Russia             1850401\n",
       "Canada             1736869\n",
       "Name: GDP (millions of US$), dtype: int64"
      ]
     },
     "execution_count": 18,
     "metadata": {},
     "output_type": "execute_result"
    }
   ],
   "source": [
    "import pandas as pd\n",
    "import numpy as np\n",
    "import json\n",
    "import matplotlib.pyplot as plt\n",
    "#Sử dụng pandas để đọc dữ liệu\n",
    "data=pd.read_csv('GDPlist.csv')\n",
    "\n",
    "quantity_top10 = data.groupby(['Country'])['GDP (millions of US$)'].max().sort_values(ascending= False)\n",
    "quantity_top10.head(10)\n"
   ]
  }
 ],
 "metadata": {
  "interpreter": {
   "hash": "2c9b7b1f8a8b380a22b7fd2c73a79c7a1b5215f489a1075541c23444f3b97d6d"
  },
  "kernelspec": {
   "display_name": "Python 3.9.7 ('base')",
   "language": "python",
   "name": "python3"
  },
  "language_info": {
   "codemirror_mode": {
    "name": "ipython",
    "version": 3
   },
   "file_extension": ".py",
   "mimetype": "text/x-python",
   "name": "python",
   "nbconvert_exporter": "python",
   "pygments_lexer": "ipython3",
   "version": "3.9.7"
  },
  "orig_nbformat": 4
 },
 "nbformat": 4,
 "nbformat_minor": 2
}
