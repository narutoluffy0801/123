{
 "cells": [
  {
   "cell_type": "markdown",
   "metadata": {},
   "source": [
    "Bộ dữ liệu chứa bao nhiêu dòng, bao nhiêu cột\n",
    "Thang đo tương ứng của các thuộc tính được lưu trữ\n",
    "GDP của các quốc gia có đồng đều không\n",
    "Mỗi châu lục có bao nhiêu quốc gia nằm trong bảng dữ liệu\n",
    "Tổng GPD của các châu lục\n",
    "Top 10 quốc gia có GDP cao nhất\n",
    "\n",
    "\n",
    "\n",
    "Sử dụng groupby để gom nhóm dữ liệu\n",
    "Sử dụng sort_values để sắp xếp dữ liệu"
   ]
  },
  {
   "cell_type": "code",
   "execution_count": null,
   "metadata": {},
   "outputs": [],
   "source": [
    "import pandas as pd\n",
    "import numpy as np\n",
    "import json\n",
    "import matplotlib.pyplot as plt\n",
    "#Sử dụng pandas để đọc dữ liệu\n",
    "data=pd.read_csv('GDPlist.csv')\n",
    "print(data.head())\n",
    "#Sử dụng hàm info() để kiểm tra thông tin bộ dữ liệu\n",
    "print(data.info())\n"
   ]
  },
  {
   "cell_type": "code",
   "execution_count": null,
   "metadata": {},
   "outputs": [],
   "source": [
    "#Sử dụng dụng biểu đồ histogram để phân tích sự đồng đều về GDP của các quốc gia\n",
    "import pandas as pd\n",
    "import numpy as np\n",
    "import json\n",
    "import matplotlib.pyplot as plt\n",
    "#Sử dụng pandas để đọc dữ liệu\n",
    "data=pd.read_csv('GDPlist.csv')\n",
    "countries=data.Country.unique()\n",
    "print(countries)\n",
    "print(\"số các quốc gia là:\"+str(countries.size))\n"
   ]
  },
  {
   "cell_type": "code",
   "execution_count": null,
   "metadata": {},
   "outputs": [],
   "source": [
    "#Sử dụng groupby để gom nhóm dữ liệu\n",
    "import pandas as pd\n",
    "import numpy as np\n",
    "import json\n",
    "import matplotlib.pyplot as plt\n",
    "#Sử dụng pandas để đọc dữ liệu\n",
    "data=pd.read_csv('GDPlist.csv')\n",
    "quantity_countries = data.groupby(['Continent'])['Country'].count().sort_values(ascending= False)\n",
    "print(quantity_countries.head(10))\n",
    "quantity_GDP = data.groupby(['Continent'])['GDP (millions of US$)'].sum().sort_values(ascending= False)\n",
    "print(quantity_GDP.head(10))\n"
   ]
  },
  {
   "cell_type": "code",
   "execution_count": null,
   "metadata": {},
   "outputs": [],
   "source": [
    "import pandas as pd\n",
    "import numpy as np\n",
    "import json\n",
    "import matplotlib.pyplot as plt\n",
    "#Sử dụng pandas để đọc dữ liệu\n",
    "data=pd.read_csv('GDPlist.csv')\n",
    "\n",
    "quantity_top10 = data.groupby(['Country'])['GDP (millions of US$)'].max().sort_values(ascending= False)\n",
    "quantity_top10.head(10)\n"
   ]
  },
  {
   "cell_type": "code",
   "execution_count": 31,
   "metadata": {},
   "outputs": [
    {
     "name": "stdout",
     "output_type": "stream",
     "text": [
      "              Place  ProductId    ProductName  UmId UmName  Month  Year  \\\n",
      "0  National Average         52  Rice - Retail     5     KG      5  2013   \n",
      "1  National Average         52  Rice - Retail     5     KG      6  2013   \n",
      "2  National Average         52  Rice - Retail     5     KG     11  2013   \n",
      "3  National Average         52  Rice - Retail     5     KG     12  2013   \n",
      "4  National Average         52  Rice - Retail     5     KG      1  2014   \n",
      "\n",
      "    Price  \n",
      "0  4.4920  \n",
      "1  4.5786  \n",
      "2  4.7865  \n",
      "3  5.1337  \n",
      "4  5.5099  \n",
      "<class 'pandas.core.frame.DataFrame'>\n",
      "RangeIndex: 7381 entries, 0 to 7380\n",
      "Data columns (total 8 columns):\n",
      " #   Column       Non-Null Count  Dtype  \n",
      "---  ------       --------------  -----  \n",
      " 0   Place        7381 non-null   object \n",
      " 1   ProductId    7381 non-null   int64  \n",
      " 2   ProductName  7381 non-null   object \n",
      " 3   UmId         7381 non-null   int64  \n",
      " 4   UmName       7381 non-null   object \n",
      " 5   Month        7381 non-null   int64  \n",
      " 6   Year         7381 non-null   int64  \n",
      " 7   Price        7381 non-null   float64\n",
      "dtypes: float64(1), int64(4), object(3)\n",
      "memory usage: 461.4+ KB\n",
      "None\n"
     ]
    },
    {
     "data": {
      "text/plain": [
       "ProductName\n",
       "Milk (powder, infant formula) - Retail                    108.287696\n",
       "Fuel (gas) - Retail                                        83.976703\n",
       "Meat (mutton) - Retail                                     45.557209\n",
       "Cocoa (powder) - Retail                                    43.802339\n",
       "Coffee (instant) - Retail                                  43.295493\n",
       "Coffee - Retail                                            42.468075\n",
       "Meat (veal) - Retail                                       41.270904\n",
       "Wage (non-qualified labour, non-agricultural) - Retail     40.548182\n",
       "Oil (olive) - Retail                                       27.274547\n",
       "Tea - Retail                                               26.224393\n",
       "Cheese - Retail                                            25.522875\n",
       "Fish (fresh) - Retail                                      22.698257\n",
       "Groundnuts (shelled) - Retail                              21.832122\n",
       "Garlic - Retail                                            16.610370\n",
       "Chickpeas - Retail                                         10.347860\n",
       "Meat (chicken) - Retail                                     9.683471\n",
       "Beans (white) - Retail                                      9.572830\n",
       "Oil (sunflower) - Retail                                    8.755174\n",
       "Fuel (petrol-gasoline) - Retail                             8.592519\n",
       "Bananas - Retail                                            8.224784\n",
       "Tomatoes (paste) - Retail                                   8.085128\n",
       "Rice - Retail                                               7.950325\n",
       "Lentils - Retail                                            6.651817\n",
       "Tea (herbal) - Retail                                       5.434838\n",
       "Water - Retail                                              5.384253\n",
       "Yogurt - Retail                                             5.364898\n",
       "Sugar - Retail                                              4.482942\n",
       "Bread (common) - Retail                                     4.463293\n",
       "Tea (green) - Retail                                        4.137000\n",
       "Apples - Retail                                             3.885039\n",
       "Eggplants - Retail                                          3.882645\n",
       "Zucchini - Retail                                           3.837423\n",
       "Milk (pasteurized) - Retail                                 3.679687\n",
       "Bulgur - Retail                                             3.516712\n",
       "Pasta - Retail                                              3.496637\n",
       "Cucumbers - Retail                                          3.411326\n",
       "Tomatoes - Retail                                           3.393658\n",
       "Cauliflower - Retail                                        3.274868\n",
       "Wheat flour - Retail                                        3.253174\n",
       "Spinach - Retail                                            3.240587\n",
       "Oranges - Retail                                            3.124280\n",
       "Peas (green, dry) - Retail                                  2.900029\n",
       "Transport (public) - Retail                                 2.468031\n",
       "Bread (pita) - Retail                                       2.404545\n",
       "Apples (red) - Retail                                       2.392193\n",
       "Potatoes - Retail                                           2.297231\n",
       "Cucumbers (greenhouse) - Retail                             2.206807\n",
       "Onions - Retail                                             2.141539\n",
       "Salt - Retail                                               2.048213\n",
       "Cabbage - Retail                                            1.723395\n",
       "Electricity - Retail                                        0.513580\n",
       "Eggs - Retail                                               0.505925\n",
       "Name: Price, dtype: float64"
      ]
     },
     "execution_count": 31,
     "metadata": {},
     "output_type": "execute_result"
    }
   ],
   "source": [
    "import pandas as pd\n",
    "import numpy as np\n",
    "import json\n",
    "import matplotlib.pyplot as plt\n",
    "data=pd.read_csv('FoodPrice_in_Turkey.csv')\n",
    "print(data.head())\n",
    "print(data.info())\n",
    "quantity_DCA = data.groupby(['ProductName'])['Price'].mean().sort_values(ascending= False)\n",
    "quantity_DCA"
   ]
  }
 ],
 "metadata": {
  "interpreter": {
   "hash": "2c9b7b1f8a8b380a22b7fd2c73a79c7a1b5215f489a1075541c23444f3b97d6d"
  },
  "kernelspec": {
   "display_name": "Python 3.9.7 ('base')",
   "language": "python",
   "name": "python3"
  },
  "language_info": {
   "codemirror_mode": {
    "name": "ipython",
    "version": 3
   },
   "file_extension": ".py",
   "mimetype": "text/x-python",
   "name": "python",
   "nbconvert_exporter": "python",
   "pygments_lexer": "ipython3",
   "version": "3.9.7"
  },
  "orig_nbformat": 4
 },
 "nbformat": 4,
 "nbformat_minor": 2
}
